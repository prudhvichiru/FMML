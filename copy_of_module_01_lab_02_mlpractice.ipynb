{
  "nbformat": 4,
  "nbformat_minor": 0,
  "metadata": {
    "colab": {
      "provenance": [],
      "include_colab_link": true
    },
    "kernelspec": {
      "name": "python3",
      "display_name": "Python 3"
    },
    "language_info": {
      "name": "python"
    }
  },
  "cells": [
    {
      "cell_type": "markdown",
      "metadata": {
        "id": "view-in-github",
        "colab_type": "text"
      },
      "source": [
        "<a href=\"https://colab.research.google.com/github/prudhvichiru/FMML/blob/main/copy_of_module_01_lab_02_mlpractice.ipynb\" target=\"_parent\"><img src=\"https://colab.research.google.com/assets/colab-badge.svg\" alt=\"Open In Colab\"/></a>"
      ]
    },
    {
      "cell_type": "markdown",
      "metadata": {
        "id": "3Eu9VZbF01eq"
      },
      "source": [
        "# Machine learning terms and metrics\n",
        "\n",
        "FMML Module 1, Lab 2<br>\n",
        "\n",
        "\n",
        " In this lab, we will show a part of the ML pipeline by extracting features, training and testing"
      ]
    },
    {
      "cell_type": "code",
      "metadata": {
        "id": "8qBvyEem0vLi"
      },
      "source": [
        "import matplotlib.pyplot as plt\n",
        "import numpy as np\n",
        "from sklearn import datasets\n",
        "# set randomseed\n",
        "rng = np.random.default_rng(seed=42)"
      ],
      "execution_count": null,
      "outputs": []
    },
    {
      "cell_type": "markdown",
      "metadata": {
        "id": "u3t59g5s1HfC"
      },
      "source": [
        "In this lab, we will use the California Housing dataset. There are 20640 samples, each with 8 attributes like income of the block, age of the houses per district etc. The task is to predict the cost of the houses per district.\n",
        "\n",
        "Let us download and examine the dataset."
      ]
    },
    {
      "cell_type": "code",
      "metadata": {
        "id": "8LpqjN991GGJ",
        "colab": {
          "base_uri": "https://localhost:8080/"
        },
        "outputId": "90cc1c13-ea08-404e-cf28-da53330e257c"
      },
      "source": [
        " dataset =  datasets.fetch_california_housing()\n",
        " # print(dataset.DESCR)  # uncomment this if you want to know more about this dataset\n",
        " # print(dataset.keys())  # if you want to know what else is there in this dataset\n",
        " dataset.target = dataset.target.astype(np.int) # so that we can classify\n",
        " print(dataset.data.shape)\n",
        " print(dataset.target.shape)"
      ],
      "execution_count": null,
      "outputs": [
        {
          "output_type": "stream",
          "name": "stdout",
          "text": [
            "(20640, 8)\n",
            "(20640,)\n"
          ]
        },
        {
          "output_type": "stream",
          "name": "stderr",
          "text": [
            "<ipython-input-2-60ae2e9a125e>:4: DeprecationWarning: `np.int` is a deprecated alias for the builtin `int`. To silence this warning, use `int` by itself. Doing this will not modify any behavior and is safe. When replacing `np.int`, you may wish to use e.g. `np.int64` or `np.int32` to specify the precision. If you wish to review your current use, check the release note link for additional information.\n",
            "Deprecated in NumPy 1.20; for more details and guidance: https://numpy.org/devdocs/release/1.20.0-notes.html#deprecations\n",
            "  dataset.target = dataset.target.astype(np.int) # so that we can classify\n"
          ]
        }
      ]
    },
    {
      "cell_type": "markdown",
      "metadata": {
        "id": "iNx4174W5xRg"
      },
      "source": [
        "Here is a function for calculating the 1-nearest neighbours"
      ]
    },
    {
      "cell_type": "code",
      "metadata": {
        "id": "07zpydQj1hIQ"
      },
      "source": [
        "def NN1(traindata, trainlabel, query):\n",
        "  diff  = traindata - query  # find the difference between features. Numpy automatically takes care of the size here\n",
        "  sq = diff*diff # square the differences\n",
        "  dist = sq.sum(1) # add up the squares\n",
        "  label = trainlabel[np.argmin(dist)] # our predicted label is the label of the training data which has the least distance from the query\n",
        "  return label\n",
        "\n",
        "def NN(traindata, trainlabel, testdata):\n",
        "  # we will run nearest neighbour for each sample in the test data\n",
        "  # and collect the predicted classes in an array using list comprehension\n",
        "  predlabel = np.array([NN1(traindata, trainlabel, i) for i in testdata])\n",
        "  return predlabel"
      ],
      "execution_count": null,
      "outputs": []
    },
    {
      "cell_type": "markdown",
      "metadata": {
        "id": "03JktkfIGaje"
      },
      "source": [
        "We will also define a 'random classifier', which randomly allots labels to each sample"
      ]
    },
    {
      "cell_type": "code",
      "metadata": {
        "id": "fogWAtjyGhAH"
      },
      "source": [
        "def RandomClassifier(traindata, trainlabel, testdata):\n",
        "  # in reality, we don't need these arguments\n",
        "\n",
        "  classes = np.unique(trainlabel)\n",
        "  rints = rng.integers(low=0, high=len(classes), size=len(testdata))\n",
        "  predlabel = classes[rints]\n",
        "  return predlabel"
      ],
      "execution_count": null,
      "outputs": []
    },
    {
      "cell_type": "markdown",
      "metadata": {
        "id": "1Hjf1KHs7fU5"
      },
      "source": [
        "Let us define a metric 'Accuracy' to see how good our learning algorithm is. Accuracy is the ratio of the number of correctly classified samples to the total number of samples. The higher the accuracy, the better the algorithm."
      ]
    },
    {
      "cell_type": "code",
      "metadata": {
        "id": "ouuCqWU07bz-"
      },
      "source": [
        "def Accuracy(gtlabel, predlabel):\n",
        "  assert len(gtlabel)==len(predlabel), \"Length of the groundtruth labels and predicted labels should be the same\"\n",
        "  correct = (gtlabel==predlabel).sum() # count the number of times the groundtruth label is equal to the predicted label.\n",
        "  return correct/len(gtlabel)"
      ],
      "execution_count": null,
      "outputs": []
    },
    {
      "cell_type": "markdown",
      "metadata": {
        "id": "4vJFwBFa9Klw"
      },
      "source": [
        "Let us make a function to split the dataset with the desired probability."
      ]
    },
    {
      "cell_type": "code",
      "metadata": {
        "id": "Ko0VzpSM2Tdi"
      },
      "source": [
        "def split(data, label, percent):\n",
        "  # generate a random number for each sample\n",
        "  rnd = rng.random(len(label))\n",
        "  split1 = rnd<percent\n",
        "  split2 = rnd>=percent\n",
        "  split1data = data[split1,:]\n",
        "  split1label = label[split1]\n",
        "  split2data = data[split2,:]\n",
        "  split2label = label[split2]\n",
        "  return split1data, split1label, split2data, split2label"
      ],
      "execution_count": null,
      "outputs": []
    },
    {
      "cell_type": "markdown",
      "metadata": {
        "id": "AcK3LEAJ_LGC"
      },
      "source": [
        "We will reserve 20% of our dataset as the test set. We will not change this portion throughout our experiments"
      ]
    },
    {
      "cell_type": "code",
      "metadata": {
        "id": "bBZkHBLJ1iU-",
        "colab": {
          "base_uri": "https://localhost:8080/"
        },
        "outputId": "3260d5d0-94f5-4ec9-c222-4c6a991f559b"
      },
      "source": [
        "testdata, testlabel, alltraindata, alltrainlabel = split(dataset.data, dataset.target, 20/100)\n",
        "print('Number of test samples = ', len(testlabel))\n",
        "print('Number of other samples = ', len(alltrainlabel))\n",
        "print('Percent of test data = ', len(testlabel)*100/len(dataset.target),'%')"
      ],
      "execution_count": null,
      "outputs": [
        {
          "output_type": "stream",
          "name": "stdout",
          "text": [
            "Number of test samples =  4144\n",
            "Number of other samples =  16496\n",
            "Percent of test data =  20.07751937984496 %\n"
          ]
        }
      ]
    },
    {
      "cell_type": "markdown",
      "metadata": {
        "id": "a6Ss0Z6IAGNV"
      },
      "source": [
        "## Experiments with splits\n",
        "\n",
        "Let us reserve some of our train data as a validation set"
      ]
    },
    {
      "cell_type": "code",
      "metadata": {
        "id": "WFew2iry_7W7"
      },
      "source": [
        "traindata, trainlabel, valdata, vallabel = split(alltraindata, alltrainlabel, 75/100)"
      ],
      "execution_count": null,
      "outputs": []
    },
    {
      "cell_type": "markdown",
      "metadata": {
        "id": "60hiu4clFN1i"
      },
      "source": [
        "What is the accuracy of our classifiers on the train dataset?"
      ]
    },
    {
      "cell_type": "code",
      "metadata": {
        "id": "DBlZDTHUFTZx",
        "colab": {
          "base_uri": "https://localhost:8080/"
        },
        "outputId": "b5b446c4-6c73-4f8b-f61b-30e4fa7045f7"
      },
      "source": [
        "trainpred = NN(traindata, trainlabel, traindata)\n",
        "trainAccuracy = Accuracy(trainlabel, trainpred)\n",
        "print(\"Train accuracy using nearest neighbour is \", trainAccuracy)\n",
        "\n",
        "trainpred = RandomClassifier(traindata, trainlabel, traindata)\n",
        "trainAccuracy = Accuracy(trainlabel, trainpred)\n",
        "print(\"Train accuracy using random classifier is \", trainAccuracy)"
      ],
      "execution_count": null,
      "outputs": [
        {
          "output_type": "stream",
          "name": "stdout",
          "text": [
            "Train accuracy using nearest neighbour is  1.0\n",
            "Train accuracy using random classifier is  0.164375808538163\n"
          ]
        }
      ]
    },
    {
      "cell_type": "markdown",
      "metadata": {
        "id": "7h08-9gJDtSy"
      },
      "source": [
        "For nearest neighbour, the train accuracy is always 1. The accuracy of the random classifier is close to 1/(number of classes) which is 0.1666 in our case.\n",
        "\n",
        "Let us predict the labels for our validation set and get the accuracy"
      ]
    },
    {
      "cell_type": "code",
      "metadata": {
        "id": "4h7bXoW_2H3v",
        "colab": {
          "base_uri": "https://localhost:8080/"
        },
        "outputId": "79b6d9d3-f0d1-4abd-e46e-1284ab5bafaf"
      },
      "source": [
        "valpred = NN(traindata, trainlabel, valdata)\n",
        "valAccuracy = Accuracy(vallabel, valpred)\n",
        "print(\"Validation accuracy using nearest neighbour is \", valAccuracy)\n",
        "\n",
        "valpred = RandomClassifier(traindata, trainlabel, valdata)\n",
        "valAccuracy = Accuracy(vallabel, valpred)\n",
        "print(\"Validation accuracy using random classifier is \", valAccuracy)"
      ],
      "execution_count": null,
      "outputs": [
        {
          "output_type": "stream",
          "name": "stdout",
          "text": [
            "Validation accuracy using nearest neighbour is  0.34108527131782945\n",
            "Validation accuracy using random classifier is  0.1688468992248062\n"
          ]
        }
      ]
    },
    {
      "cell_type": "code",
      "source": [],
      "metadata": {
        "id": "z2djpYHGxQ-U"
      },
      "execution_count": null,
      "outputs": []
    },
    {
      "cell_type": "markdown",
      "metadata": {
        "id": "py9bLguFEjfg"
      },
      "source": [
        "Validation accuracy of nearest neighbour is considerably less than its train accuracy while the validation accuracy of random classifier is the same. However, the validation accuracy of nearest neighbour is twice that of the random classifier.\n",
        "\n",
        "Now let us try another random split and check the validation accuracy"
      ]
    },
    {
      "cell_type": "code",
      "metadata": {
        "id": "ujm3cyYzEntE",
        "colab": {
          "base_uri": "https://localhost:8080/"
        },
        "outputId": "9c7ef888-8192-4c6a-d3f0-9d74266c1f68"
      },
      "source": [
        "traindata, trainlabel, valdata, vallabel = split(alltraindata, alltrainlabel, 75/100)\n",
        "valpred = NN(traindata, trainlabel, valdata)\n",
        "valAccuracy = Accuracy(vallabel, valpred)\n",
        "print(\"Validation accuracy of nearest neighbour is \", valAccuracy)"
      ],
      "execution_count": null,
      "outputs": [
        {
          "output_type": "stream",
          "name": "stdout",
          "text": [
            "Validation accuracy of nearest neighbour is  0.34048257372654156\n"
          ]
        }
      ]
    },
    {
      "cell_type": "markdown",
      "metadata": {
        "id": "oSOx7U83EKie"
      },
      "source": [
        "You can run the above cell multiple times to try with different random splits.\n",
        "We notice that the accuracy is different for each run, but close together.\n",
        "\n",
        "Now let us compare it with the accuracy we get on the test dataset."
      ]
    },
    {
      "cell_type": "code",
      "metadata": {
        "id": "PNEZ5ToYBEDW",
        "colab": {
          "base_uri": "https://localhost:8080/"
        },
        "outputId": "f9ab9aab-5cc3-49ff-835f-2c4aa0c229de"
      },
      "source": [
        "testpred = NN(alltraindata, alltrainlabel, testdata)\n",
        "testAccuracy = Accuracy(testlabel, testpred)\n",
        "print('Test accuracy is ', testAccuracy)"
      ],
      "execution_count": null,
      "outputs": [
        {
          "output_type": "stream",
          "name": "stdout",
          "text": [
            "Test accuracy is  0.34917953667953666\n"
          ]
        }
      ]
    },
    {
      "cell_type": "markdown",
      "metadata": {
        "id": "w3dGD531K3gH"
      },
      "source": [
        "### Try it out for yourself and answer:\n",
        "1. How is the accuracy of the validation set affected if we increase the percentage of validation set? What happens when we reduce it?\n",
        "2. How does the size of the train and validation set affect how well we can predict the accuracy on the test set using the validation set?\n",
        "3. What do you think is a good percentage to reserve for the validation set so that thest two factors are balanced?\n",
        "\n",
        "Answer for both nearest neighbour and random classifier. You can note down the values for your experiments and plot a graph using  <a href=https://matplotlib.org/stable/gallery/lines_bars_and_markers/step_demo.html#sphx-glr-gallery-lines-bars-and-markers-step-demo-py>plt.plot<href>. Check also for extreme values for splits, like 99.9% or 0.1%"
      ]
    },
    {
      "cell_type": "markdown",
      "source": [
        "1)Increasing the Percentage of Validation Set:\n",
        "\n",
        "Pros: A larger validation set can provide a more robust estimate of your model's performance. It gives the model more data to generalize from, which can lead to a better assessment of its true performance.\n",
        "Cons: With a larger validation set, you have fewer data points for training, which might result in slower convergence and potentially underfitting if your training set is too small.\n",
        "\n",
        "Reducing the Percentage of Validation Set:\n",
        "\n",
        "Pros: More data available for training can help your model learn better and potentially achieve higher accuracy on the training data.\n",
        "Cons: A smaller validation set may lead to overfitting, where the model becomes too tailored to the training data and doesn't generalize well to unseen data. It may also provide a less reliable estimate of your model's true performance because it's based on fewer data points"
      ],
      "metadata": {
        "id": "_cr9cv2Kt0Ge"
      }
    },
    {
      "cell_type": "markdown",
      "source": [
        "2)Increasing Training Size:\n",
        "\n",
        "A larger training set typically leads to better model generalization because the model has more data to learn from.\n",
        "With a substantial training set, the validation set's performance becomes a more reliable predictor of test set accuracy.\n",
        "As training size increases, the validation set accuracy tends to converge towards the test set accuracy.\n",
        "\n",
        "Decreasing Training Size:\n",
        "\n",
        "Smaller training sets may result in models that overfit (perform well on training data but poorly on unseen data).\n",
        "The validation set's accuracy may not accurately estimate test set performance when training data is limited.\n",
        "\n",
        "Hypothetical Graph:\n",
        "\n",
        "\n",
        "\n",
        "X-axis: Training Set Size (Increasing from left to right)\n",
        "Y-axis: Accuracy on Validation Set\n",
        "In the graph, as the training set size increases, the accuracy on the validation set generally improves, reaching a plateau where further increases have diminishing returns. With smaller training set sizes, there's more variability in validation set accuracy, and it might not reach high levels"
      ],
      "metadata": {
        "id": "UdSBS_2JtP-6"
      }
    },
    {
      "cell_type": "markdown",
      "source": [
        "3)Training Data Size: By dedicating 70% to 80% of your data for training, you provide your model with enough information to learn the underlying patterns in your dataset. A larger training set often leads to better model generalization.\n",
        "\n",
        "Validation Data Size: With 20% to 30% of your data in the validation set, you have a sufficiently sized sample to evaluate your model's performance reliably. This ensures that your validation accuracy or other metrics are indicative of how well your model generalizes to unseen data."
      ],
      "metadata": {
        "id": "wFgeOLr9ukyM"
      }
    },
    {
      "cell_type": "markdown",
      "metadata": {
        "id": "PnYvkAZLQY7h"
      },
      "source": [
        "## Multiple Splits\n",
        "\n",
        "One way to get more accurate estimates for the test accuracy is by using <b>crossvalidation</b>. Here, we will try a simple version, where we do multiple train/val splits and take the average of validation accuracies as the test accuracy estimation. Here is a function for doing this. Note that this function will take a long time to execute."
      ]
    },
    {
      "cell_type": "code",
      "metadata": {
        "id": "E4nGCUQXBTzo"
      },
      "source": [
        "# you can use this function for random classifier also\n",
        "def AverageAccuracy(alldata, alllabel, splitpercent, iterations, classifier=NN):\n",
        "  accuracy = 0\n",
        "  for ii in range(iterations):\n",
        "    traindata, trainlabel, valdata, vallabel = split(alldata, alllabel, splitpercent)\n",
        "    valpred = classifier(traindata, trainlabel, valdata)\n",
        "    accuracy += Accuracy(vallabel, valpred)\n",
        "  return accuracy/iterations # average of all accuracies"
      ],
      "execution_count": null,
      "outputs": []
    },
    {
      "cell_type": "code",
      "metadata": {
        "id": "H3qtNar7Bbik",
        "colab": {
          "base_uri": "https://localhost:8080/"
        },
        "outputId": "6aa7b938-2e8e-4826-97a1-9231cb4ef61d"
      },
      "source": [
        "print('Average validation accuracy is ', AverageAccuracy(alltraindata, alltrainlabel, 75/100, 10, classifier=NN))\n",
        "testpred = NN(alltraindata, alltrainlabel, testdata)\n",
        "print('test accuracy is ',Accuracy(testlabel, testpred) )"
      ],
      "execution_count": null,
      "outputs": [
        {
          "metadata": {
            "tags": null
          },
          "name": "stdout",
          "output_type": "stream",
          "text": [
            "Average validation accuracy is  0.33584635395170215\n",
            "test accuracy is  0.34917953667953666\n"
          ]
        }
      ]
    },
    {
      "cell_type": "markdown",
      "metadata": {
        "id": "33GIn4x5VH-d"
      },
      "source": [
        "This is a very simple way of doing cross-validation. There are many well-known algorithms for cross-validation, like k-fold cross-validation, leave-one-out etc. This will be covered in detail in a later module. For more information about cross-validation, check <a href=https://en.wikipedia.org/wiki/Cross-validation_(statistics)>Cross-validatioin (Wikipedia)</a>\n",
        "\n",
        "### Questions\n",
        "1. Does averaging the validation accuracy across multiple splits give more consistent results?\n",
        "2. Does it give more accurate estimate of test accuracy?\n",
        "3. What is the effect of the number of iterations on the estimate? Do we get a better estimate with higher iterations?\n",
        "4. Consider the results you got for the previous questions. Can we deal with a very small train dataset or validation dataset by increasing the iterations?\n"
      ]
    },
    {
      "cell_type": "markdown",
      "source": [
        "1)Yes, averaging the validation accuracy (or other performance metrics) across multiple splits, such as in k-fold cross-validation, can provide more consistent and robust results compared to a single data split. Here's why:\n",
        "\n",
        "Reduced Variance: With a single data split, the performance of your model may be heavily influenced by the particular data points in that split. If you have a random or uneven distribution of data, this can lead to variability in the results. Averaging over multiple splits helps reduce this variance.\n",
        "\n",
        "Better Generalization Estimate: Cross-validation ensures that your model is evaluated on different subsets of the data, which provides a more comprehensive assessment of its generalization performance. It can help identify whether your model's performance is consistent across various parts of the dataset or if it's sensitive to specific data points"
      ],
      "metadata": {
        "id": "KracHSQlvYcS"
      }
    },
    {
      "cell_type": "markdown",
      "source": [
        "2)Averaging validation accuracy across multiple splits, such as in k-fold cross-validation, provides a more accurate estimate of test accuracy compared to a single data split. However, it's important to clarify that the validation accuracy obtained through cross-validation is not the same as the test accuracy; it's an estimate of how well your model is expected to perform on unseen data. Here's why it's considered more accurate:\n",
        "\n",
        "Better Representation of Data: Cross-validation divides your dataset into multiple subsets and ensures that each subset serves as both a training and validation set. This means your model is evaluated on different portions of the data, providing a more comprehensive view of its performance across various data points and scenarios.\n",
        "\n",
        "Reduced Bias: With a single data split, you might be lucky or unlucky in terms of which data points end up in the validation set. Cross-validation mitigates this bias by averaging performance over multiple splits, making the estimate less sensitive to the particular choice of data."
      ],
      "metadata": {
        "id": "RsgTTYS8v4bL"
      }
    },
    {
      "cell_type": "markdown",
      "source": [
        "3)The number of iterations, or folds, in cross-validation can have an effect on the estimate of your model's performance. Here's how it works:\n",
        "\n",
        "Effect of Increasing Iterations:\n",
        "\n",
        "As you increase the number of iterations (k) in k-fold cross-validation, you typically obtain a more robust and reliable estimate of your model's performance.\n",
        "With a higher number of iterations, your model is trained and validated on a larger number of different data splits, which provides a better overall assessment of how well it generalizes.\n",
        "The estimate of your model's performance becomes less sensitive to the specific random selection of data points in each fold, reducing variability in the results.\n",
        "Effect of Decreasing Iterations:\n",
        "\n",
        "If you decrease the number of iterations, you might obtain a less reliable estimate of your model's performance.\n",
        "With fewer iterations, your estimate can be influenced by the randomness of data splits to a greater degree, potentially leading to less consistent results.\n",
        "There's a risk of underestimating or overestimating your model's true generalization performance.\n",
        "However, it's important to strike a balance. Increasing the number of iterations requires more computational resources and time, and there may be diminishing returns. Common choices for k include 5, 10, or even 20, depending on the size of your dataset and the computational resources available.\n",
        "\n",
        "In summary, increasing the number of iterations in cross-validation can provide a better estimate of your model's generalization performance by reducing the impact of random data splits. However, there's no need to use an extremely high number of iterations; you should choose a value that balances the need for accuracy with practicality and resource constraints.\n",
        "\n",
        "\n",
        "\n",
        "\n",
        "\n",
        "Send a message\n",
        "\n",
        "\n",
        "Free Research Preview. ChatGPT"
      ],
      "metadata": {
        "id": "WjBo5qIQwKU3"
      }
    },
    {
      "cell_type": "markdown",
      "source": [
        "4)Mitigating Small Dataset Issues:\n",
        "\n",
        "When you have a very small training dataset, increasing the number of iterations in cross-validation (e.g., using a higher k value) can allow your model to train and validate on different subsets of the data more frequently.\n",
        "This can help provide a more comprehensive assessment of your model's generalization performance and reduce the impact of data randomness.\n",
        "Limitations of Small Datasets:\n",
        "\n",
        "Small datasets inherently have limited information for your model to learn from. No amount of cross-validation iterations can create more data or overcome the fundamental limitations of a small dataset.\n",
        "Small datasets are more prone to overfitting, where a model learns to perform well on the limited training data but struggles to generalize to new, unseen data.\n",
        "Resource Considerations:\n",
        "\n",
        "Increasing the number of iterations also increases computational demands and time requirements. It might not always be feasible or efficient to use a very high k value.\n",
        "In practice, while increasing iterations can help, it's often advisable to work with larger training datasets whenever possible to improve your model's ability to learn and generalize. If dealing with a small dataset is unavoidable, consider techniques like data augmentation (for image data), transfer learning (leveraging pre-trained models), or feature engineering to make the most of the available"
      ],
      "metadata": {
        "id": "EG990qDvw2z0"
      }
    }
  ]
}